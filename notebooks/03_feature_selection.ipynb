{
 "cells": [
  {
   "cell_type": "code",
   "execution_count": 18,
   "id": "9d683a08",
   "metadata": {},
   "outputs": [],
   "source": [
    "import pandas as pd\n",
    "import numpy as np\n",
    "from sklearn.preprocessing import StandardScaler, LabelEncoder\n",
    "from sklearn.model_selection import train_test_split\n",
    "import matplotlib.pyplot as plt\n",
    "import seaborn as sns\n",
    "from sklearn.decomposition import PCA\n",
    "import matplotlib.pyplot as plt\n",
    "from sklearn.feature_selection import SelectKBest, f_classif, RFE\n",
    "from sklearn.ensemble import RandomForestClassifier"
   ]
  },
  {
   "cell_type": "code",
   "execution_count": 22,
   "id": "36ae9d16",
   "metadata": {},
   "outputs": [],
   "source": [
    "df = pd.read_csv('../data/heart_disease_preprocessed.csv')\n",
    "X = df.iloc[:, :-1]\n",
    "y = df.iloc[:, -1]"
   ]
  },
  {
   "cell_type": "code",
   "execution_count": 24,
   "id": "24160b81",
   "metadata": {},
   "outputs": [
    {
     "name": "stdout",
     "output_type": "stream",
     "text": [
      "     feature  importance\n",
      "7    thalach    0.138926\n",
      "9    oldpeak    0.117851\n",
      "0        age    0.115244\n",
      "4       chol    0.113633\n",
      "3   trestbps    0.099319\n",
      "11        ca    0.094761\n",
      "12      thal    0.082430\n",
      "2         cp    0.075682\n",
      "8      exang    0.046423\n",
      "10     slope    0.042554\n",
      "6    restecg    0.029849\n",
      "1        sex    0.027128\n",
      "5        fbs    0.016198\n",
      "Top 8 RF features: ['thalach', 'oldpeak', 'age', 'chol', 'trestbps', 'ca', 'thal', 'cp']\n"
     ]
    }
   ],
   "source": [
    "rf = RandomForestClassifier(random_state=42)\n",
    "rf.fit(X, y)\n",
    "feature_importance = pd.DataFrame({\n",
    "    'feature': X.columns,\n",
    "    'importance': rf.feature_importances_\n",
    "}).sort_values('importance', ascending=False)\n",
    "\n",
    "print(feature_importance)\n",
    "top_rf_features = feature_importance.head(8)['feature'].tolist()\n",
    "print(f\"Top 8 RF features: {top_rf_features}\")"
   ]
  },
  {
   "cell_type": "code",
   "execution_count": 25,
   "id": "23b14523",
   "metadata": {},
   "outputs": [
    {
     "name": "stdout",
     "output_type": "stream",
     "text": [
      "F-test selected features: ['sex', 'cp', 'thalach', 'exang', 'oldpeak', 'slope', 'ca', 'thal']\n"
     ]
    }
   ],
   "source": [
    "f_selector = SelectKBest(f_classif, k=8)\n",
    "X_f_selected = f_selector.fit_transform(X, y)\n",
    "selected_features_f = X.columns[f_selector.get_support()]\n",
    "print(f\"F-test selected features: {list(selected_features_f)}\")"
   ]
  },
  {
   "cell_type": "code",
   "execution_count": 26,
   "id": "f73d079f",
   "metadata": {},
   "outputs": [],
   "source": [
    "rfe = RFE(estimator=rf, n_features_to_select=8)\n",
    "rfe.fit(X, y)\n",
    "selected_features_rfe = X.columns[rfe.support_]"
   ]
  },
  {
   "cell_type": "code",
   "execution_count": 27,
   "id": "c6c360e1",
   "metadata": {},
   "outputs": [
    {
     "name": "stdout",
     "output_type": "stream",
     "text": [
      "\n",
      " Final Selected Features: ['thalach', 'oldpeak', 'age', 'chol', 'trestbps', 'ca', 'thal', 'cp']\n"
     ]
    }
   ],
   "source": [
    "final_features = list(set(selected_features_f) & set(selected_features_rfe))\n",
    "if len(final_features) < 6:\n",
    "    final_features = top_rf_features[:8]\n",
    "\n",
    "print(f\"\\n Final Selected Features: {final_features}\")"
   ]
  },
  {
   "cell_type": "code",
   "execution_count": 28,
   "id": "da7c9a6e",
   "metadata": {},
   "outputs": [
    {
     "name": "stdout",
     "output_type": "stream",
     "text": [
      " Selected features dataset saved!\n"
     ]
    }
   ],
   "source": [
    "X_selected = X[final_features]\n",
    "df_selected = pd.concat([X_selected, y], axis=1)\n",
    "df_selected.to_csv('../data/heart_disease_selected.csv', index=False)\n",
    "print(f\" Selected features dataset saved!\")"
   ]
  }
 ],
 "metadata": {
  "kernelspec": {
   "display_name": "venv",
   "language": "python",
   "name": "python3"
  },
  "language_info": {
   "codemirror_mode": {
    "name": "ipython",
    "version": 3
   },
   "file_extension": ".py",
   "mimetype": "text/x-python",
   "name": "python",
   "nbconvert_exporter": "python",
   "pygments_lexer": "ipython3",
   "version": "3.12.6"
  }
 },
 "nbformat": 4,
 "nbformat_minor": 5
}
